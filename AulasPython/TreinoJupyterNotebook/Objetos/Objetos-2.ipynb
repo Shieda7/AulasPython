{
 "cells": [
  {
   "cell_type": "code",
   "execution_count": 12,
   "id": "399f8029",
   "metadata": {},
   "outputs": [
    {
     "name": "stdout",
     "output_type": "stream",
     "text": [
      "O valor R$ 50 foi depositado!\n",
      "Saldo atual: R$ 250\n",
      "Limite de saque atingido!\n",
      "\n",
      "EXTRATO: \n",
      "+ R$ 50\n",
      "O valor R$ 30 foi depositado!\n",
      "Saldo atual: R$ 280\n",
      "Transferência de R$ 30 realizada!\n",
      "Saldo atual: R$ 280\n",
      "Saldo atual: R$ 170\n"
     ]
    }
   ],
   "source": [
    "class ContaBancaria:\n",
    "    def __init__(self, nome_titular, saldo_inicial):\n",
    "        self.nome = nome_titular\n",
    "        self.saldo = saldo_inicial\n",
    "        self.saque_total = 0\n",
    "        self.extrato = []\n",
    "        \n",
    "    def exibir_saldo(self):\n",
    "        print(f'Saldo atual: R$ {self.saldo}')\n",
    "        \n",
    "    def depositar(self, valor_deposito):\n",
    "        self.saldo += valor_deposito\n",
    "        self.extrato.append('+ R$ ' + str(valor_deposito))\n",
    "        print(f'O valor R$ {valor_deposito} foi depositado!')\n",
    "        self.exibir_saldo()\n",
    "        \n",
    "    def sacar(self, valor_saque):\n",
    "        taxa = 5\n",
    "        valor_taxa = (valor_saque + taxa)/100\n",
    "        if (valor_saque + valor_taxa) > self.saldo:\n",
    "            print('Saldo insuficiente!')\n",
    "        else:\n",
    "            self.saque_total += valor_saque\n",
    "            limite = 100\n",
    "            \n",
    "            if(self.saque_total > limite):\n",
    "                print('Limite de saque atingido!')\n",
    "                     \n",
    "            else:\n",
    "                self.extrato.append('- R$ ' + str(valor_saque+valor_taxa))\n",
    "                self.saldo -= (valor_saque + valor_taxa)\n",
    "                print(f'O valor R$ {valor_saque} foi sacado!')\n",
    "                print(f'Valor taxa: R$ {valor_taxa}')\n",
    "                self.exibir_saldo()\n",
    "            \n",
    "    def exibir_extrato(self):\n",
    "        print('\\nEXTRATO: ')\n",
    "        for item in self.extrato:\n",
    "            print(item)\n",
    "            \n",
    "    def transferir(self, valor_transf, conta_destino):\n",
    "        self.saldo -= valor_transf\n",
    "        conta_destino.depositar(valor_transf)\n",
    "        print(f'Transferência de R$ {valor_transf} realizada!')\n",
    "        self.extrato.append('- R$ ' + str(valor_transf))\n",
    "    \n",
    "            \n",
    "c1 = ContaBancaria('Maria', 200)\n",
    "c1.depositar(50)\n",
    "c1.sacar(120)\n",
    "c1.exibir_extrato()\n",
    "\n",
    "c2 = ContaBancaria('Kelven', 200)\n",
    "c2.transferir(30, c1)\n",
    "\n",
    "c1.exibir_saldo()\n",
    "c2.exibir_saldo()"
   ]
  },
  {
   "cell_type": "code",
   "execution_count": null,
   "id": "2b667662",
   "metadata": {},
   "outputs": [],
   "source": []
  }
 ],
 "metadata": {
  "kernelspec": {
   "display_name": "Python 3 (ipykernel)",
   "language": "python",
   "name": "python3"
  },
  "language_info": {
   "codemirror_mode": {
    "name": "ipython",
    "version": 3
   },
   "file_extension": ".py",
   "mimetype": "text/x-python",
   "name": "python",
   "nbconvert_exporter": "python",
   "pygments_lexer": "ipython3",
   "version": "3.11.2"
  }
 },
 "nbformat": 4,
 "nbformat_minor": 5
}
