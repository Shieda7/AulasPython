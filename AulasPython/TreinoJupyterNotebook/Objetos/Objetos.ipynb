{
 "cells": [
  {
   "cell_type": "code",
   "execution_count": null,
   "id": "abc40f5a",
   "metadata": {},
   "outputs": [],
   "source": [
    "class Carro:\n",
    "    marca = \"Toyota\"\n",
    "    cor = \"Preto\"\n",
    "    modelo = \"Supra\"\n",
    "\n",
    "carro1 = Carro()\n",
    "print(f'{carro1.marca}\\n{carro1.modelo}\\n{carro1.cor}')\n"
   ]
  },
  {
   "cell_type": "code",
   "execution_count": null,
   "id": "f5963ed0",
   "metadata": {},
   "outputs": [],
   "source": [
    "class Pessoa:\n",
    "    nome = 'Meu nome é Kelven'\n",
    "    \n",
    "    def fala(self):\n",
    "        print('E eu amo a Maria')\n",
    "        \n",
    "kelven = Pessoa()\n",
    "print(kelven.nome)\n",
    "kelven.fala()\n"
   ]
  },
  {
   "cell_type": "code",
   "execution_count": null,
   "id": "bb8954d7",
   "metadata": {},
   "outputs": [],
   "source": [
    "class Pessoa:\n",
    "    def __init__(self, nome, idade):\n",
    "        self.nome = nome\n",
    "        self.idade = idade\n",
    "        \n",
    "p1 = Pessoa('Kelven', 17)\n",
    "print(p1.nome)\n",
    "print(p1.idade)\n",
    "\n",
    "p2 = Pessoa('Maria', 17)\n",
    "print(p2.nome)\n",
    "print(p2.idade)"
   ]
  },
  {
   "cell_type": "code",
   "execution_count": null,
   "id": "d2b84ca1",
   "metadata": {},
   "outputs": [],
   "source": [
    "class Carro:\n",
    "    def __init__(self, marca, modelo, cor):\n",
    "        self.marca = marca\n",
    "        self.modelo = modelo\n",
    "        self.cor = cor\n",
    "        \n",
    "marca = input('Qual a marca do carro? ')\n",
    "modelo = input('Qual o modelo do carro? ')\n",
    "cor = input('Qual a cor do carro? ')\n",
    "        \n",
    "c1 = Carro(marca, modelo, cor)\n",
    "print(c1.marca)\n",
    "print(c1.modelo)\n",
    "print(c1.cor)\n",
    "\n",
    "marca = input('Qual a marca do carro? ')\n",
    "modelo = input('Qual o modelo do carro? ')\n",
    "cor = input('Qual a cor do carro? ')\n",
    "\n",
    "c2 = Carro(marca, modelo, cor)\n",
    "print(c2.marca)\n",
    "print(c2.modelo)\n",
    "print(c2.cor)"
   ]
  },
  {
   "cell_type": "code",
   "execution_count": 6,
   "id": "85598651",
   "metadata": {},
   "outputs": [
    {
     "name": "stdout",
     "output_type": "stream",
     "text": [
      "Qual é o raio do primeiro círculo? 9\n",
      "O raio do círculo 1 é: 9.0\n",
      "E a área do círculo 1 é: 254.34\n",
      "Qual é o raio do segundo círculo? 7\n",
      "O raio do círculo 2 é: 7.0\n",
      "E a área do círculo 2 é: 153.86\n"
     ]
    }
   ],
   "source": [
    "#area = 3.14*raio*raio\n",
    "class Circulo:\n",
    "    def __init__(self, raio, area):\n",
    "        self.raio = raio\n",
    "        self.area = area\n",
    "        \n",
    "raio = float(input('Qual é o raio do primeiro círculo? '))\n",
    "area = 3.14 * raio * raio\n",
    "\n",
    "c1 = Circulo(raio, area)\n",
    "print(f'O raio do círculo 1 é: {c1.raio}')\n",
    "print(f'E a área do círculo 1 é: {c1.area}')\n",
    "\n",
    "raio = float(input('Qual é o raio do segundo círculo? '))\n",
    "area = 3.14 * raio * raio\n",
    "\n",
    "c2 = Circulo(raio, area)\n",
    "print(f'O raio do círculo 2 é: {c2.raio}')\n",
    "print(f'E a área do círculo 2 é: {c2.area}')"
   ]
  },
  {
   "cell_type": "code",
   "execution_count": 8,
   "id": "eb0b2bb9",
   "metadata": {},
   "outputs": [
    {
     "name": "stdout",
     "output_type": "stream",
     "text": [
      "-------------------\n",
      "Qual o nome do aluno? Kelven\n",
      "Qual a idade do aluno? 17\n",
      "Qual foi a nota do primeiro bimestre? 7\n",
      "Qual foi a nota do segundo bimestre? 7\n",
      "Qual foi a nota do terceiro bimestre? 7\n",
      "Qual foi a nota do quarto bimestre? 7\n",
      "------Aluno 1------\n",
      "Nome: Kelven \n",
      "Idade: 17 \n",
      "Nota total: 28.0 \n",
      "Media: 7.0\n",
      "-------------------\n",
      "Qual o nome do aluno? Maria\n",
      "Qual a idade do aluno? 17\n",
      "Qual foi a nota do primeiro bimestre? 8\n",
      "Qual foi a nota do segundo bimestre? 8\n",
      "Qual foi a nota do terceiro bimestre? 8\n",
      "Qual foi a nota do quarto bimestre? 8\n",
      "------Aluno 2------\n",
      "Nome: Maria \n",
      "Idade: 17 \n",
      "Nota total: 32.0 \n",
      "Media: 8.0\n"
     ]
    }
   ],
   "source": [
    "class Aluno:\n",
    "    def __init__(self, nome, idade, nota, media):\n",
    "        self.nome = nome\n",
    "        self.idade = idade\n",
    "        self.nota = nota\n",
    "        self.media = media\n",
    "        \n",
    "print('-------------------')\n",
    "nome = str(input('Qual o nome do aluno? '))\n",
    "idade = int(input('Qual a idade do aluno? '))\n",
    "n1 = float(input('Qual foi a nota do primeiro bimestre? '))\n",
    "n2 = float(input('Qual foi a nota do segundo bimestre? '))\n",
    "n3 = float(input('Qual foi a nota do terceiro bimestre? '))\n",
    "n4 = float(input('Qual foi a nota do quarto bimestre? '))\n",
    "nota = n1+n2+n3+n4\n",
    "media = nota/4\n",
    "\n",
    "a1 = Aluno(nome, idade, nota, media)\n",
    "print(f'------Aluno 1------\\nNome: {a1.nome} \\nIdade: {a1.idade} \\nNota total: {a1.nota} \\nMedia: {a1.media}')\n",
    "\n",
    "print('-------------------')\n",
    "nome = str(input('Qual o nome do aluno? '))\n",
    "idade = int(input('Qual a idade do aluno? '))\n",
    "n1 = float(input('Qual foi a nota do primeiro bimestre? '))\n",
    "n2 = float(input('Qual foi a nota do segundo bimestre? '))\n",
    "n3 = float(input('Qual foi a nota do terceiro bimestre? '))\n",
    "n4 = float(input('Qual foi a nota do quarto bimestre? '))\n",
    "nota = n1+n2+n3+n4\n",
    "media = nota/4\n",
    "\n",
    "a2 = Aluno(nome, idade, nota, media)\n",
    "print(f'------Aluno 2------\\nNome: {a2.nome} \\nIdade: {a2.idade} \\nNota total: {a2.nota} \\nMedia: {a2.media}')\n",
    "\n"
   ]
  },
  {
   "cell_type": "code",
   "execution_count": null,
   "id": "399f8029",
   "metadata": {},
   "outputs": [],
   "source": []
  }
 ],
 "metadata": {
  "kernelspec": {
   "display_name": "Python 3 (ipykernel)",
   "language": "python",
   "name": "python3"
  },
  "language_info": {
   "codemirror_mode": {
    "name": "ipython",
    "version": 3
   },
   "file_extension": ".py",
   "mimetype": "text/x-python",
   "name": "python",
   "nbconvert_exporter": "python",
   "pygments_lexer": "ipython3",
   "version": "3.11.2"
  }
 },
 "nbformat": 4,
 "nbformat_minor": 5
}
