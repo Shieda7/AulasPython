{
 "cells": [
  {
   "cell_type": "code",
   "execution_count": 4,
   "id": "1903736d",
   "metadata": {},
   "outputs": [
    {
     "name": "stdout",
     "output_type": "stream",
     "text": [
      "Digite seu peso: 62\n",
      "Digite sua altura: 1.74\n",
      "Seu IMC é: 20.5\n"
     ]
    }
   ],
   "source": [
    "#programa que recebe o peso e a altura e calcula o imc\n",
    "peso = float(input('Digite seu peso: '))\n",
    "altura = float(input('Digite sua altura: '))\n",
    "imc = peso / (altura*altura)\n",
    "\n",
    "print(f'Seu IMC é: {imc:.2f}')"
   ]
  },
  {
   "cell_type": "code",
   "execution_count": null,
   "id": "653debda",
   "metadata": {},
   "outputs": [],
   "source": []
  }
 ],
 "metadata": {
  "kernelspec": {
   "display_name": "Python 3 (ipykernel)",
   "language": "python",
   "name": "python3"
  },
  "language_info": {
   "codemirror_mode": {
    "name": "ipython",
    "version": 3
   },
   "file_extension": ".py",
   "mimetype": "text/x-python",
   "name": "python",
   "nbconvert_exporter": "python",
   "pygments_lexer": "ipython3",
   "version": "3.11.2"
  }
 },
 "nbformat": 4,
 "nbformat_minor": 5
}
