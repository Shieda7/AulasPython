{
 "cells": [
  {
   "cell_type": "code",
   "execution_count": 24,
   "id": "5aca2c1a",
   "metadata": {},
   "outputs": [
    {
     "name": "stdout",
     "output_type": "stream",
     "text": [
      "Digite o valor do lado x: 3\n",
      "Digite o valor do lado y: 3\n",
      "Digite o valor do lado z: 3\n",
      "Seu triângulo é equilátero!\n"
     ]
    }
   ],
   "source": [
    "#programa que recebe as medidas de 3 lados de um triângulo e diz se ele é equilatero, isosceles ou escaleno\n",
    "#equilatero = 3 lados iguais\n",
    "#isosceles = 2 lados iguais\n",
    "#escalenos = todos os lados são diferentes\n",
    "\n",
    "x = float(input('Digite o valor do lado x: '))\n",
    "y = float(input('Digite o valor do lado y: '))\n",
    "z = float(input('Digite o valor do lado z: '))\n",
    "\n",
    "if x == y == z:\n",
    "    print('Seu triângulo é equilátero!')\n",
    "elif x == y or x == z or y == z:\n",
    "    print('Seu triângulo é isosceles!')\n",
    "else:\n",
    "    print('Seu triângulo é escaleno!')"
   ]
  },
  {
   "cell_type": "code",
   "execution_count": null,
   "id": "2a464e84",
   "metadata": {},
   "outputs": [],
   "source": []
  },
  {
   "cell_type": "code",
   "execution_count": null,
   "id": "ca202dfc",
   "metadata": {},
   "outputs": [],
   "source": []
  }
 ],
 "metadata": {
  "kernelspec": {
   "display_name": "Python 3 (ipykernel)",
   "language": "python",
   "name": "python3"
  },
  "language_info": {
   "codemirror_mode": {
    "name": "ipython",
    "version": 3
   },
   "file_extension": ".py",
   "mimetype": "text/x-python",
   "name": "python",
   "nbconvert_exporter": "python",
   "pygments_lexer": "ipython3",
   "version": "3.11.2"
  }
 },
 "nbformat": 4,
 "nbformat_minor": 5
}
