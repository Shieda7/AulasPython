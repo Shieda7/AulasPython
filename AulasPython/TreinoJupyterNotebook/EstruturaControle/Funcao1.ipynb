{
 "cells": [
  {
   "cell_type": "code",
   "execution_count": null,
   "id": "3effce26",
   "metadata": {},
   "outputs": [],
   "source": [
    "#função que recebe um número e retorna o dobro dele\n",
    "def numero(num1, num2):\n",
    "    return num1 * num2\n",
    "\n",
    "num1 = int(input('Digite um número e eu te mostrarei o dobro dele: '))\n",
    "num2 = 2\n",
    "\n",
    "meu_numero = numero(num1, num2)\n",
    "print(meu_numero)"
   ]
  },
  {
   "cell_type": "code",
   "execution_count": null,
   "id": "8f2abf50",
   "metadata": {},
   "outputs": [],
   "source": [
    "#recebe uma string como parametro e retorna o tamanho dela[\n",
    "def frase(palavra):\n",
    "    return len(palavra)\n",
    "\n",
    "palavra = (input('Digite uma frase: '))\n",
    "tamanho = frase(palavra)\n",
    "\n",
    "print(tamanho)\n"
   ]
  },
  {
   "cell_type": "code",
   "execution_count": 5,
   "id": "359ff947",
   "metadata": {},
   "outputs": [
    {
     "name": "stdout",
     "output_type": "stream",
     "text": [
      "Digite um numero: 23\n",
      "True\n"
     ]
    }
   ],
   "source": [
    "def num_primo(num):\n",
    "    #numero primo so tem 2 divisores, o numero 1 e ele mesmo\n",
    "    divisores = 0\n",
    "    for i in range(1,num+1): #fim +1\n",
    "        if num % i == 0:\n",
    "            divisores += 1\n",
    "            \n",
    "    if divisores == 2:\n",
    "        return True\n",
    "    else:\n",
    "        return False\n",
    "    \n",
    "numero = int(input('Digite um numero: '))\n",
    "print(num_primo(numero))"
   ]
  },
  {
   "cell_type": "code",
   "execution_count": null,
   "id": "7e878fe7",
   "metadata": {},
   "outputs": [],
   "source": []
  }
 ],
 "metadata": {
  "kernelspec": {
   "display_name": "Python 3 (ipykernel)",
   "language": "python",
   "name": "python3"
  },
  "language_info": {
   "codemirror_mode": {
    "name": "ipython",
    "version": 3
   },
   "file_extension": ".py",
   "mimetype": "text/x-python",
   "name": "python",
   "nbconvert_exporter": "python",
   "pygments_lexer": "ipython3",
   "version": "3.11.2"
  }
 },
 "nbformat": 4,
 "nbformat_minor": 5
}
