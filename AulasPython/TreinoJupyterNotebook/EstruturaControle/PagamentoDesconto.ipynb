{
 "cells": [
  {
   "cell_type": "code",
   "execution_count": 1,
   "id": "da1de24d",
   "metadata": {
    "scrolled": true
   },
   "outputs": [
    {
     "name": "stdout",
     "output_type": "stream",
     "text": [
      "Qual vai ser o produto escolhido?\n",
      "a) Headset\n",
      "b) Mouse\n",
      "c) Teclado \n",
      "Opção escolhida: a\n",
      "Qual vai ser a forma de pagamento?\n",
      "a) À vista (10% desconto\n",
      "b) Cartão (5% desconto)\n",
      "c) Parcelado \n",
      "Opção escolhida: a\n",
      "O preço final do seu produto é: R$225.00.\n"
     ]
    }
   ],
   "source": [
    "#faça um programa que calcula o desconto de um produto de acordo com a forma de pagamento escolhida pelo cliente\n",
    "\n",
    "#a vista = 10% de desconto\n",
    "#credito = 5%\n",
    "#parcelado = normal\n",
    "\n",
    "\n",
    "\n",
    "# perguntar qual o produto escolhido\n",
    "produto = input('Qual vai ser o produto escolhido?\\na) Headset\\nb) Mouse\\nc) Teclado \\nOpção escolhida: ')\n",
    "\n",
    "# mostrar o preço do produto\n",
    "if produto == 'a':\n",
    "    preco = 250\n",
    "elif produto == 'b':\n",
    "    preco = 120\n",
    "elif produto == 'c':\n",
    "    preco = 300\n",
    "else:\n",
    "    print('Opção inválida')\n",
    "#perguntar qual a forma de pagamento\n",
    "pagamento = input('Qual vai ser a forma de pagamento?\\na) À vista (10% desconto\\nb) Cartão (5% desconto)\\nc) Parcelado \\nOpção escolhida: ')\n",
    "\n",
    "#definir um desconto baseado na forma de pagamento\n",
    "if pagamento == 'a':\n",
    "    desconto = preco * 0.1\n",
    "elif pagamento == 'b':\n",
    "    desconto = preco *0.05\n",
    "elif pagamento == 'c':\n",
    "    desconto = 0\n",
    "else:\n",
    "    print('Opção inválida')\n",
    "#calcular o preço final\n",
    "preco_final = preco - desconto\n",
    "#mostrar o preço final do produto\n",
    "if desconto > 0:\n",
    "    print(f'O preço final do seu produto é: R${preco_final:.2f}.')\n",
    "else:\n",
    "    print(f'O preço final do seu produto é: R${preco_final:.2f}.')\n"
   ]
  },
  {
   "cell_type": "code",
   "execution_count": null,
   "id": "dde5473f",
   "metadata": {},
   "outputs": [],
   "source": [
    "import sys\n",
    "#definir e perguntar qual produto vc quer\n",
    "produto = input('Qual vai ser o produto escolhido?\\na) Headset\\nb) Mouse\\nc) Teclado\\nOpção escolhida: ')\n",
    "\n",
    "#definir e mostrar valor dos produtos\n",
    "if produto == 'a':\n",
    "    valor = 250\n",
    "elif produto == 'b':\n",
    "    valor = 100\n",
    "elif produto == 'c':\n",
    "    valor = 300\n",
    "else:\n",
    "    print('Opção inválida, tente novamente.')\n",
    "    sys.exit()\n",
    "    \n",
    "#perguntar qual vai ser a opção de pagamento\n",
    "pagamento = input('Qual vai ser o método de pagamento?\\na) Dinheiro ou Pix\\nb) Cartão de débito\\nc) Parcelado\\nOpção escolhida: ')\n",
    "\n",
    "#a vista = 10% desconto\n",
    "#cartão = 5% desconto\n",
    "#parcelado = normal\n",
    "\n",
    "#calcular o desconto baseado na opção escolhida\n",
    "if pagamento == 'a':\n",
    "    desconto = valor * 0.1\n",
    "elif pagamento == 'b':\n",
    "    desconto = valor * 0.05\n",
    "elif pagamento == 'c':\n",
    "    desconto = 0\n",
    "else:\n",
    "    print('Opção inválida, tente novamente.')\n",
    "    sys.exit()\n",
    "    \n",
    "#mostrar valor final\n",
    "valor_final = valor - desconto\n",
    "print(f'O valor final da compra é de: R${valor_final:.2f}.')"
   ]
  },
  {
   "cell_type": "code",
   "execution_count": null,
   "id": "a74f90c5",
   "metadata": {},
   "outputs": [],
   "source": []
  }
 ],
 "metadata": {
  "kernelspec": {
   "display_name": "Python 3 (ipykernel)",
   "language": "python",
   "name": "python3"
  },
  "language_info": {
   "codemirror_mode": {
    "name": "ipython",
    "version": 3
   },
   "file_extension": ".py",
   "mimetype": "text/x-python",
   "name": "python",
   "nbconvert_exporter": "python",
   "pygments_lexer": "ipython3",
   "version": "3.12.4"
  }
 },
 "nbformat": 4,
 "nbformat_minor": 5
}
