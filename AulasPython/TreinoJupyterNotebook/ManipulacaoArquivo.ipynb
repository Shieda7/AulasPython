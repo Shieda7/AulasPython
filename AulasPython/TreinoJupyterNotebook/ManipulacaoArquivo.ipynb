{
 "cells": [
  {
   "cell_type": "code",
   "execution_count": null,
   "id": "c43dfa8b",
   "metadata": {},
   "outputs": [],
   "source": [
    "#manipulação de arquivos, exemplo: .txt e .csv\n",
    "\n",
    "#w (write): abre um arquivo no modo escrita mas substitui o conteúdo que já existe no arquivo\n",
    "\n",
    "#a (append): também modo escrita, mas mantém o que já existe no arquivo\n",
    "\n",
    "#r (read): abre o arquivo no modo leitura\n",
    "\n",
    "#exemplo: \n",
    "#arquivo = open(\"pessoas.txt\", \"a\")\n",
    "#arquivo.close()\n",
    "\n",
    "arquivo = open(\"pessoas.txt\", \"a\")\n",
    "arquivo.close()"
   ]
  },
  {
   "cell_type": "code",
   "execution_count": null,
   "id": "f4f67873",
   "metadata": {},
   "outputs": [],
   "source": [
    "arquivo = open('maria.txt', 'a')\n",
    "arquivo.write('Eu amo a Maria Eduarda, ela é minha princesa')\n",
    "arquivo.close()"
   ]
  }
 ],
 "metadata": {
  "kernelspec": {
   "display_name": "Python 3 (ipykernel)",
   "language": "python",
   "name": "python3"
  },
  "language_info": {
   "codemirror_mode": {
    "name": "ipython",
    "version": 3
   },
   "file_extension": ".py",
   "mimetype": "text/x-python",
   "name": "python",
   "nbconvert_exporter": "python",
   "pygments_lexer": "ipython3",
   "version": "3.11.2"
  }
 },
 "nbformat": 4,
 "nbformat_minor": 5
}
