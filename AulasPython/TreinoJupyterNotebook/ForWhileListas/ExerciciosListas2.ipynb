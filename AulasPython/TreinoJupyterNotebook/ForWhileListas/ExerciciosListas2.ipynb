{
 "cells": [
  {
   "cell_type": "code",
   "execution_count": null,
   "id": "667e1953",
   "metadata": {},
   "outputs": [],
   "source": [
    "#programa que declara uma lista vazia e continua solicitando uma ação ao usuario enquanto ele quiser continuar.\n",
    "#as ações são: Adicionar um item à lista, Remover um item da lista.\n",
    "lista = []\n",
    "print (f'\\nLista atual: {lista}')\n",
    "while (True):\n",
    "    escolha = input('\\n\\nO que deseja fazer?\\n1. Adicionar um item à lista\\n2. Remover um item da lista\\nEscolha: ')\n",
    "    if escolha == 'adicionar':\n",
    "        item = input('\\nQual item deseja adidionar? ')\n",
    "        lista.append(item)\n",
    "        print(f'Lista atual: {lista}')\n",
    "        continuar = input('Deseja continuar? (s/n): ')\n",
    "        if continuar == ('s'):\n",
    "            continue\n",
    "        else:\n",
    "            print('\\nEncerrando...')\n",
    "            break\n",
    "    elif escolha == 'remover':\n",
    "        item = input('\\nQual item deseja remover? ')\n",
    "        lista.remove(item)\n",
    "        print(f'Lista atual: {lista}')\n",
    "        continuar = input('Deseja continuar? (s/n): ')\n",
    "        if continuar == ('s'):\n",
    "            continue\n",
    "        else:\n",
    "            print('\\nEncerrando...')\n",
    "            break"
   ]
  },
  {
   "cell_type": "code",
   "execution_count": null,
   "id": "1630e7ff",
   "metadata": {},
   "outputs": [],
   "source": []
  },
  {
   "cell_type": "code",
   "execution_count": 3,
   "id": "52cdd636",
   "metadata": {},
   "outputs": [
    {
     "name": "stdout",
     "output_type": "stream",
     "text": [
      "[1, 2, 3, 15]\n"
     ]
    }
   ],
   "source": [
    "a = [1, 2, 3]\n",
    "a.append(15)\n",
    "\n",
    "print (a)\n"
   ]
  },
  {
   "cell_type": "code",
   "execution_count": 5,
   "id": "930ea381-e686-4efc-bee2-910b45fbb8e9",
   "metadata": {},
   "outputs": [
    {
     "name": "stdout",
     "output_type": "stream",
     "text": [
      "[1, 2, 3, 15, 10, 20, 30]\n"
     ]
    }
   ],
   "source": [
    "a = [1, 2, 3]\n",
    "a.append(15)\n",
    "\n",
    "b = [10, 20, 30]\n",
    "for item in b:\n",
    "    a.append(item)\n",
    "\n",
    "print (a)\n",
    "\n",
    "\n"
   ]
  },
  {
   "cell_type": "code",
   "execution_count": null,
   "id": "6fd0f8ec-8366-4899-aec1-17f0fd199cf8",
   "metadata": {},
   "outputs": [],
   "source": []
  }
 ],
 "metadata": {
  "kernelspec": {
   "display_name": "Python 3 (ipykernel)",
   "language": "python",
   "name": "python3"
  },
  "language_info": {
   "codemirror_mode": {
    "name": "ipython",
    "version": 3
   },
   "file_extension": ".py",
   "mimetype": "text/x-python",
   "name": "python",
   "nbconvert_exporter": "python",
   "pygments_lexer": "ipython3",
   "version": "3.12.4"
  }
 },
 "nbformat": 4,
 "nbformat_minor": 5
}
