{
 "cells": [
  {
   "cell_type": "code",
   "execution_count": null,
   "id": "cc233631",
   "metadata": {},
   "outputs": [],
   "source": [
    "#faça um programa que receba um numero x do usuario e imprima todos os numeros de 0 ate x utilizando o for\n",
    "numero = int(input('Digite um número: '))\n",
    "for numero in range(0,numero+1):\n",
    "    print(numero)"
   ]
  },
  {
   "cell_type": "code",
   "execution_count": null,
   "id": "b8c570cf",
   "metadata": {},
   "outputs": [],
   "source": [
    "#faça um programa que imprima todos os numeros de 100 até 1000 utilizando o for\n",
    "for numero in range (100,1001):\n",
    "    print(numero)\n",
    "    "
   ]
  },
  {
   "cell_type": "code",
   "execution_count": null,
   "id": "3500b53f",
   "metadata": {},
   "outputs": [],
   "source": [
    "#faça um programa que imprima 10 vezes a frase 'For é fácil demais'\n",
    "frase = ('For é fácil demais')\n",
    "for w in range(10):\n",
    "    print(frase)"
   ]
  },
  {
   "cell_type": "code",
   "execution_count": null,
   "id": "cbd28576",
   "metadata": {},
   "outputs": [],
   "source": [
    "frase='Maria Eduarda é muito linda'\n",
    "for a in frase:\n",
    "    print(a)"
   ]
  },
  {
   "cell_type": "code",
   "execution_count": null,
   "id": "e9648ce7",
   "metadata": {},
   "outputs": [],
   "source": [
    "frase = str(input('Digite uma frase:\\n'))\n",
    "nova_frase = ''\n",
    "vogais = 'aeiou'\n",
    "for caractere in frase:\n",
    "    if(caractere in vogais):\n",
    "        nova_frase+= '*'\n",
    "    else:\n",
    "        nova_frase+= caractere\n",
    "        \n",
    "print(nova_frase)"
   ]
  },
  {
   "cell_type": "code",
   "execution_count": null,
   "id": "3dc541f3",
   "metadata": {},
   "outputs": [],
   "source": [
    "soma=0\n",
    "for num in range(10):\n",
    "    num=int(input('digite um número: '))\n",
    "    soma=num+soma\n",
    "print(soma)"
   ]
  },
  {
   "cell_type": "code",
   "execution_count": 14,
   "id": "572d4874",
   "metadata": {
    "scrolled": true
   },
   "outputs": [
    {
     "name": "stdout",
     "output_type": "stream",
     "text": [
      "2\n",
      "4\n",
      "6\n",
      "8\n",
      "10\n",
      "12\n",
      "14\n",
      "16\n",
      "18\n",
      "20\n"
     ]
    }
   ],
   "source": [
    "#faça um programa que imprima somente os numeros pares de 2 a 20(dica: use 3 parametros)\n",
    "for n in range (2,21,2):\n",
    "    print(n)"
   ]
  },
  {
   "cell_type": "code",
   "execution_count": 19,
   "id": "9b86c676",
   "metadata": {},
   "outputs": [
    {
     "name": "stdout",
     "output_type": "stream",
     "text": [
      "21\n",
      "20\n",
      "19\n",
      "18\n",
      "17\n",
      "16\n",
      "15\n",
      "14\n",
      "13\n",
      "12\n",
      "11\n",
      "10\n",
      "9\n",
      "8\n",
      "7\n",
      "6\n",
      "5\n",
      "4\n",
      "3\n",
      "2\n",
      "1\n"
     ]
    }
   ],
   "source": [
    "#faça um codigo que imprima todos os numeros de 20 até 0 (dica: use 3 parametros)\n",
    "for n in range (21,0,-1):\n",
    "    print(n)"
   ]
  },
  {
   "cell_type": "code",
   "execution_count": 5,
   "id": "7b768a31",
   "metadata": {},
   "outputs": [
    {
     "name": "stdout",
     "output_type": "stream",
     "text": [
      "3 x 0 = 0\n",
      "3 x 1 = 3\n",
      "3 x 2 = 6\n",
      "3 x 3 = 9\n",
      "3 x 4 = 12\n",
      "3 x 5 = 15\n",
      "3 x 6 = 18\n",
      "3 x 7 = 21\n",
      "3 x 8 = 24\n",
      "3 x 9 = 27\n",
      "3 x 10 = 30\n"
     ]
    }
   ],
   "source": [
    "# faça um programa que imprima a tabuada do 3 na tela, exemplo: 1 x 3 = 3, 2 x 3 = 6\n",
    "n1 = 0\n",
    "n2 = 3\n",
    "for n1 in range(11):\n",
    "    conta = n1 * n2\n",
    "    print(f'{n2} x {n1} = {conta}')"
   ]
  },
  {
   "cell_type": "code",
   "execution_count": null,
   "id": "bb6b3b41",
   "metadata": {},
   "outputs": [],
   "source": []
  }
 ],
 "metadata": {
  "kernelspec": {
   "display_name": "Python 3 (ipykernel)",
   "language": "python",
   "name": "python3"
  },
  "language_info": {
   "codemirror_mode": {
    "name": "ipython",
    "version": 3
   },
   "file_extension": ".py",
   "mimetype": "text/x-python",
   "name": "python",
   "nbconvert_exporter": "python",
   "pygments_lexer": "ipython3",
   "version": "3.11.2"
  }
 },
 "nbformat": 4,
 "nbformat_minor": 5
}
