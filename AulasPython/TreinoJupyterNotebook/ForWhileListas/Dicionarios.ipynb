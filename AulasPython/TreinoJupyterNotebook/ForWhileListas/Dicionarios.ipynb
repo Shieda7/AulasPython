{
 "cells": [
  {
   "cell_type": "code",
   "execution_count": 2,
   "id": "f8618017",
   "metadata": {},
   "outputs": [
    {
     "name": "stdout",
     "output_type": "stream",
     "text": [
      "17\n",
      "17\n"
     ]
    }
   ],
   "source": [
    "#dicionarios\n",
    "\n",
    "dicionario = {'Maria':{'idade': 17, 'altura': 1.60, 'peso': 50},\n",
    "             'Kelven':{'idade': 17, 'altura': 1.75, 'peso': 60}}\n",
    "\n",
    "print(dicionario['Maria']['idade'])\n",
    "print(dicionario['Kelven']['idade'])"
   ]
  },
  {
   "cell_type": "code",
   "execution_count": 4,
   "id": "0efa919d",
   "metadata": {},
   "outputs": [
    {
     "name": "stdout",
     "output_type": "stream",
     "text": [
      "goiaba custa 0.5 possui 10\n",
      "banana custa 0.5 possui 10\n",
      "maçã custa 0.5 possui 10\n"
     ]
    }
   ],
   "source": [
    "frutas = {'goiaba':{'preço':0.50, 'quantidade':10},\n",
    "         'banana':{'preço':0.50, 'quantidade':10},\n",
    "         'maçã':{'preço':0.50, 'quantidade':10}}\n",
    "\n",
    "for chave, valor in frutas.items():\n",
    "    print(f'{chave} custa {valor[\"preço\"]} possui {valor[\"quantidade\"]}')"
   ]
  },
  {
   "cell_type": "code",
   "execution_count": null,
   "id": "aaee4864",
   "metadata": {},
   "outputs": [],
   "source": []
  }
 ],
 "metadata": {
  "kernelspec": {
   "display_name": "Python 3 (ipykernel)",
   "language": "python",
   "name": "python3"
  },
  "language_info": {
   "codemirror_mode": {
    "name": "ipython",
    "version": 3
   },
   "file_extension": ".py",
   "mimetype": "text/x-python",
   "name": "python",
   "nbconvert_exporter": "python",
   "pygments_lexer": "ipython3",
   "version": "3.11.2"
  }
 },
 "nbformat": 4,
 "nbformat_minor": 5
}
