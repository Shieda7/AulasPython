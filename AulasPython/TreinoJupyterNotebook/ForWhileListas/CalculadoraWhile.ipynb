{
 "cells": [
  {
   "cell_type": "code",
   "execution_count": null,
   "id": "e04adc6a",
   "metadata": {},
   "outputs": [
    {
     "name": "stdout",
     "output_type": "stream",
     "text": [
      "Qual o primeiro número escolhido? 6\n",
      "Qual a operação que deseja? +\n",
      "Qual o segundo número escolhido? 7\n",
      "O resultado é: 13.0\n",
      "Deseja continuar? (Responda com s/n) s\n",
      "Qual o primeiro número escolhido? 6\n",
      "Qual a operação que deseja? +\n"
     ]
    }
   ],
   "source": [
    "#calculadora:\n",
    "continua = 's'\n",
    "while continua == 's':\n",
    "#perguntar um número\n",
    "    num1 = float(input('Qual o primeiro número escolhido? '))\n",
    "#escolher o sinal de operação\n",
    "    sinal = input('Qual a operação que deseja? ')\n",
    "#perguntar outro número\n",
    "    num2 = float(input('Qual o segundo número escolhido? '))\n",
    "#fazer a operação\n",
    "    if sinal == '+':\n",
    "        resultado = (num1+num2)\n",
    "        print(f'O resultado é: {resultado}')\n",
    "    elif sinal == '-':\n",
    "        resultado = (num1-num2)\n",
    "        print(f'O resultado é: {resultado}')\n",
    "    elif sinal == '/':\n",
    "        resultado = (num1/num2)\n",
    "        print(f'O resultado é: {resultado}')\n",
    "    elif sinal == '*':\n",
    "        resultado = (num1*num2)\n",
    "        print(f'O resultado é: {resultado}')\n",
    "    elif sinal == '**':\n",
    "        resultado = (num1**num2)\n",
    "        print(f'O resultado é: {resultado}')\n",
    "    else:\n",
    "        print('Digite um sinal válido')\n",
    "#perguntar se deseja continuar\n",
    "    continua = input('Deseja continuar? (Responda com s/n) ')\n",
    "    if continua == 's':\n",
    "        continue\n",
    "    elif continua == 'n':\n",
    "        print('Encerrando programa...')\n",
    "    else:\n",
    "        print('Resposta inválida.')\n",
    "        "
   ]
  },
  {
   "cell_type": "code",
   "execution_count": null,
   "id": "92aa7e86",
   "metadata": {},
   "outputs": [],
   "source": []
  },
  {
   "cell_type": "code",
   "execution_count": null,
   "id": "0b7bae9d",
   "metadata": {},
   "outputs": [],
   "source": []
  }
 ],
 "metadata": {
  "kernelspec": {
   "display_name": "Python 3 (ipykernel)",
   "language": "python",
   "name": "python3"
  },
  "language_info": {
   "codemirror_mode": {
    "name": "ipython",
    "version": 3
   },
   "file_extension": ".py",
   "mimetype": "text/x-python",
   "name": "python",
   "nbconvert_exporter": "python",
   "pygments_lexer": "ipython3",
   "version": "3.11.2"
  }
 },
 "nbformat": 4,
 "nbformat_minor": 5
}
