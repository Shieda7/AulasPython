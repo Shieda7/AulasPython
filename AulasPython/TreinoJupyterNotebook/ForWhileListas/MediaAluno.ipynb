{
 "cells": [
  {
   "cell_type": "markdown",
   "id": "01fd9d2f",
   "metadata": {},
   "source": [
    "###### import os\n",
    "os.getcwd()"
   ]
  },
  {
   "cell_type": "code",
   "execution_count": null,
   "id": "69460cba",
   "metadata": {},
   "outputs": [],
   "source": []
  },
  {
   "cell_type": "code",
   "execution_count": 13,
   "id": "a6faf710",
   "metadata": {
    "scrolled": false
   },
   "outputs": [
    {
     "name": "stdout",
     "output_type": "stream",
     "text": [
      "Informe o nome completo do aluno: Kelven\n",
      "Informe a turma do aluno: 2A\n",
      "Informe a idade do aluno: 17\n",
      "Qual foi a nota do primeiro bimestre? 4\n",
      "Qual foi a nota do segundo bimestre? 4\n",
      "Qual foi a nota do terceiro bimestre? 4\n",
      "Qual foi a nota do quarto bimestre? 4\n",
      "Nome: Kelven. \n",
      "Turma: 2A \n",
      "Idade: 17 \n",
      "Média: 4.0\n",
      "Qual foi a nota da prova final? 9\n",
      "Infelizmente, você foi reprovado :c\n"
     ]
    }
   ],
   "source": [
    "#perguntar o nome\n",
    "nome = (input('Informe o nome completo do aluno: '))\n",
    "#perguntar a turma\n",
    "turma = (input('Informe a turma do aluno: '))\n",
    "#idade\n",
    "idade = int(input('Informe a idade do aluno: '))\n",
    "#notas de todos os bimestres\n",
    "num1 = float(input('Qual foi a nota do primeiro bimestre? '))\n",
    "num2 = float(input('Qual foi a nota do segundo bimestre? '))\n",
    "num3 = float(input('Qual foi a nota do terceiro bimestre? '))\n",
    "num4 = float(input('Qual foi a nota do quarto bimestre? '))\n",
    "#somar todas as notas e fazer a média (dividir)\n",
    "soma = num1+ num2 + num3 + num4\n",
    "media = soma / 4\n",
    "#mostrar as informações e a média do aluno no ano\n",
    "print(f'Nome: {nome}. \\nTurma: {turma} \\nIdade: {idade} \\nMédia: {media}')\n",
    "\n",
    "#se a média for menor q 5, diga que o aluno foi reprovado. e se for maior, diga que foi aprovado\n",
    "if media > 5: \n",
    "    print('Você foi aprovado!')\n",
    "    \n",
    "else: \n",
    "    prova_final = float(input('Qual foi a nota da prova final? '))\n",
    "    nova_media = (prova_final + media) / 5\n",
    "    \n",
    "    if nova_media >=5:\n",
    "        print('Parabéns, você foi aprovado!')\n",
    "        \n",
    "    else:\n",
    "        print('Infelizmente, você foi reprovado :c')\n"
   ]
  },
  {
   "cell_type": "code",
   "execution_count": 14,
   "id": "907e3fa9",
   "metadata": {},
   "outputs": [
    {
     "name": "stdout",
     "output_type": "stream",
     "text": [
      "Olá! Este programa irá calcular a sua média e verificar se você foi aprovado ou não.\n",
      "Qual foi a 1ª nota? 6\n",
      "Qual foi a 2ª nota? 6\n",
      "Qual foi a 3ª nota? 6\n",
      "Qual foi a 4ª nota? 6\n",
      "Infelizmente, você não alcançou a média e terá que fazer a prova de recuperação final. Caso já tenha feito, informe a nota que conseguiu: 9\n",
      "Infelizmente, você foi reprovado. :(\n"
     ]
    }
   ],
   "source": [
    "# Saudação ao usuário\n",
    "print('Olá! Este programa irá calcular a sua média e verificar se você foi aprovado ou não.')\n",
    "\n",
    "# Armazenando as quatro notas em uma lista\n",
    "notas = []\n",
    "for i in range(4):\n",
    "    notas.append(float(input(f'Qual foi a {i+1}ª nota? ')))\n",
    "\n",
    "# Calculando a média\n",
    "soma = sum(notas)\n",
    "media = soma / 4\n",
    "\n",
    "# Verificando se foi aprovado\n",
    "if media >= 7:\n",
    "    print('Parabéns, você foi aprovado!')\n",
    "else:\n",
    "    # Pedindo a nota da prova final e verificando se é válida\n",
    "    while True:\n",
    "        prova_final = float(input('Infelizmente, você não alcançou a média e terá que fazer a prova de recuperação final. Caso já tenha feito, informe a nota que conseguiu: '))\n",
    "        if 0 <= prova_final <= 10:\n",
    "            break\n",
    "        else:\n",
    "            print('Por favor, digite uma nota válida entre 0 e 10.')\n",
    "    \n",
    "    # Calculando a nova média\n",
    "    nova_media = (soma + prova_final) / 5\n",
    "    \n",
    "    # Verificando se foi aprovado ou reprovado\n",
    "    if nova_media >= 7:\n",
    "        print('Parabéns, você foi aprovado!')\n",
    "    else:\n",
    "        print('Infelizmente, você foi reprovado. :(')"
   ]
  },
  {
   "cell_type": "code",
   "execution_count": null,
   "id": "0ab0e672",
   "metadata": {},
   "outputs": [],
   "source": []
  }
 ],
 "metadata": {
  "kernelspec": {
   "display_name": "Python 3 (ipykernel)",
   "language": "python",
   "name": "python3"
  },
  "language_info": {
   "codemirror_mode": {
    "name": "ipython",
    "version": 3
   },
   "file_extension": ".py",
   "mimetype": "text/x-python",
   "name": "python",
   "nbconvert_exporter": "python",
   "pygments_lexer": "ipython3",
   "version": "3.11.2"
  }
 },
 "nbformat": 4,
 "nbformat_minor": 5
}
