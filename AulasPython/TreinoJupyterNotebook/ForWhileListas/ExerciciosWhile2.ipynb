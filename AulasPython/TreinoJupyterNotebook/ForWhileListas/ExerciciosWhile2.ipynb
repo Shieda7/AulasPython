{
 "cells": [
  {
   "cell_type": "code",
   "execution_count": null,
   "id": "2aa5e496",
   "metadata": {},
   "outputs": [],
   "source": [
    "#faça um programa que recebe um numero x digitado pelo usuario e imprima todos os numeros de x até 0 utilizando o while\n",
    "numero = int(input('Escolha um número inteiro: '))\n",
    "while numero>0:\n",
    "    print(numero)\n",
    "    numero-=1"
   ]
  },
  {
   "cell_type": "code",
   "execution_count": null,
   "id": "81e44734",
   "metadata": {},
   "outputs": [],
   "source": [
    "#faça um programa que repete 7 vezes a frase 'Você consegue!' utilizando o laço de repetição while\n",
    "numero = 1\n",
    "while numero <= 7:\n",
    "    print('Você consegue!')\n",
    "    numero += 1"
   ]
  },
  {
   "cell_type": "code",
   "execution_count": null,
   "id": "d4663831",
   "metadata": {},
   "outputs": [],
   "source": [
    "#programa que mostra todos os números entre 100 até 1000\n",
    "numero = 100\n",
    "while numero<= 1000:\n",
    "    print(numero)\n",
    "    numero+=1"
   ]
  },
  {
   "cell_type": "code",
   "execution_count": null,
   "id": "1d34c8e1",
   "metadata": {},
   "outputs": [],
   "source": [
    "#programa que roda infinitamente\n",
    "#dentro do while, declare uma variavel chamada numero, que pede ao usuário para digitar um número inteiro.\n",
    "#o programa deve continuar rodando até que o número digitado seja 0. Caso seja, o programa será encerrado.\n",
    "while(True):\n",
    "    numero = int(input('Digite um número: '))\n",
    "    if numero >= 1:\n",
    "        print(f'Seu número é: {numero}')\n",
    "    elif numero <= 0:\n",
    "        print('Fim do programa')\n",
    "        break"
   ]
  },
  {
   "cell_type": "code",
   "execution_count": null,
   "id": "2ec84ed1",
   "metadata": {},
   "outputs": [],
   "source": [
    "while(True):\n",
    "    numero = int(input('Me diga um número e eu te mostrarei o dobro dele: '))\n",
    "    numero *= 2\n",
    "    print(numero)\n",
    "    opcao = input('Você deseja continuar operando o programa? (Responda com s ou n): ')\n",
    "    if opcao == 's':\n",
    "        continue\n",
    "    elif opcao == 'n':\n",
    "        print('Fim do programa.')\n",
    "        break\n",
    "    else:\n",
    "        print('Opção inválida. Responda com s ou n.')\n",
    "        break"
   ]
  },
  {
   "cell_type": "code",
   "execution_count": null,
   "id": "1d7c0365",
   "metadata": {},
   "outputs": [],
   "source": []
  }
 ],
 "metadata": {
  "kernelspec": {
   "display_name": "Python 3 (ipykernel)",
   "language": "python",
   "name": "python3"
  },
  "language_info": {
   "codemirror_mode": {
    "name": "ipython",
    "version": 3
   },
   "file_extension": ".py",
   "mimetype": "text/x-python",
   "name": "python",
   "nbconvert_exporter": "python",
   "pygments_lexer": "ipython3",
   "version": "3.11.2"
  }
 },
 "nbformat": 4,
 "nbformat_minor": 5
}
